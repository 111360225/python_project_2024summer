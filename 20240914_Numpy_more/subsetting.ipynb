{
 "cells": [
  {
   "cell_type": "markdown",
   "id": "671bb0c5-0f51-482f-8122-b4faadbd8fd7",
   "metadata": {},
   "source": [
    "## Exercise 1"
   ]
  },
  {
   "cell_type": "code",
   "execution_count": 15,
   "id": "081885e1-59c3-4ba3-b9d1-e9567d96376f",
   "metadata": {},
   "outputs": [
    {
     "data": {
      "text/plain": [
       "array([[ 0,  1,  2,  3],\n",
       "       [ 4,  5,  6,  7],\n",
       "       [ 8,  9, 10, 11],\n",
       "       [12, 13, 14, 15]])"
      ]
     },
     "execution_count": 15,
     "metadata": {},
     "output_type": "execute_result"
    }
   ],
   "source": [
    "x = np.arange(16).reshape((4,4))\n",
    "x"
   ]
  },
  {
   "cell_type": "code",
   "execution_count": 14,
   "id": "88db33dd-b0af-45a6-a662-4306215acad1",
   "metadata": {},
   "outputs": [],
   "source": [
    "import numpy as np"
   ]
  },
  {
   "cell_type": "code",
   "execution_count": 32,
   "id": "ee30e3d1-2694-42bb-80de-f1f01eacd1fa",
   "metadata": {},
   "outputs": [
    {
     "name": "stdout",
     "output_type": "stream",
     "text": [
      "[[ 5  6]\n",
      " [ 9 10]]\n",
      "[[ 5  6]\n",
      " [ 9 10]]\n"
     ]
    }
   ],
   "source": [
    "#subset to get the 2x2 with 5,6,9,10\n",
    "\n",
    "print(x[1:3,1:3])\n",
    "#or\n",
    "print(x[[1,2],][:,[1,2]])"
   ]
  },
  {
   "cell_type": "markdown",
   "id": "9d675167-8302-4d4a-ba37-8dad1d8d9258",
   "metadata": {},
   "source": [
    "## Exercise 2\n",
    "\n",
    "We will now use this to attempt a simple brute force approach to numerical optimization, define a grid of points using meshgrid() to approximate the minima the following function:\n",
    "\n",
    "$$f(x,y)=(1-x)^2+100 (y-x^2)^2$$\r\n",
    "\n",
    "Considering values of $x, y \\in (-1,3)$, which values of $x, y$ minimize this function?"
   ]
  },
  {
   "cell_type": "code",
   "execution_count": 42,
   "id": "94d0ed8d-7886-4149-87d7-b82951a63d31",
   "metadata": {},
   "outputs": [
    {
     "name": "stdout",
     "output_type": "stream",
     "text": [
      "[[-1  0  1  2]\n",
      " [-1  0  1  2]\n",
      " [-1  0  1  2]\n",
      " [-1  0  1  2]]\n",
      "[[-1 -1 -1 -1]\n",
      " [ 0  0  0  0]\n",
      " [ 1  1  1  1]\n",
      " [ 2  2  2  2]]\n"
     ]
    }
   ],
   "source": [
    "x,y = np.meshgrid(np.arange(-1,3),np.arange(-1,3))\n",
    "\n",
    "print(x)\n",
    "\n",
    "print(y)"
   ]
  },
  {
   "cell_type": "code",
   "execution_count": 47,
   "id": "1d635768-002e-4dd2-9858-3a4a1b889a79",
   "metadata": {},
   "outputs": [
    {
     "data": {
      "text/plain": [
       "array([[ 404,  101,  400, 2501],\n",
       "       [ 104,    1,  100, 1601],\n",
       "       [   4,  101,    0,  901],\n",
       "       [ 104,  401,  100,  401]])"
      ]
     },
     "execution_count": 47,
     "metadata": {},
     "output_type": "execute_result"
    }
   ],
   "source": [
    "pow((1-x),2)+100*pow((y-pow(x,2)),2)"
   ]
  },
  {
   "cell_type": "markdown",
   "id": "50572803-0dc3-4bfd-9d12-d0ad1715b76b",
   "metadata": {},
   "source": [
    "## Exercise 3\n",
    "\n",
    "* A(128 * 128 * 3) + B(3)\n",
    "  \r",
    "*  A(8 * 1 * 6 * 1) + B(7 * 1 * 5\n",
    "  )*\n",
    "• A(2 * 1) + B(8 * 4 * \n",
    "  3*\r\n",
    "• A(3 * 1) + B(15 * 3 *\n",
    "   * 5)\r\n",
    "A(3) + B(4)\n",
    "\n",
    "\n",
    "\n",
    "\n",
    "* * A (128 x 128 x 3) + B (3)*:\n",
    "  \n",
    "```\n",
    "A    128 x 128 x 3\n",
    "B                3\n",
    "------------------\n",
    "A+B\n",
    "```\n",
    "\n",
    "  \r",
    "*• A(8x* 1x* 6x* 1) + B(7x* 1x* 5\n",
    "    \n",
    "```\n",
    "A    8 x 1 x 6 x 1\n",
    "B        7 x 1 x 5\n",
    "------------------\n",
    "A+B\n",
    "```\n",
    "  )*\n",
    "• A(x * 1) + B(x * x * \n",
    "      \n",
    "```\n",
    "A            2 x 1\n",
    "B        8 x 4 x 3\n",
    "------------------\n",
    "A+B\n",
    "```\n",
    "  3*\r\n",
    "• Ax3 * 1) + B(x5 *x3 *\n",
    "        \n",
    "```\n",
    "A            3 x 1\n",
    "B        15 x 3 x 5\n",
    "------------------\n",
    "A+B\n",
    "```\n",
    "   *)\r\n",
    "• A(3) + B        \n",
    "```\n",
    "A        3\n",
    "B        4\n",
    "----------\n",
    "A+B\n",
    "```\n",
    "```\n",
    "B (4)"
   ]
  },
  {
   "cell_type": "markdown",
   "id": "3bc0f342-6807-492c-99fa-589def6039e4",
   "metadata": {},
   "source": [
    "## Exercise 3\n",
    "\n",
    "* A (128 x 128 x 3) + B (3)\n",
    "\n",
    "```\n",
    "A   128 x 128 x 3\n",
    "B               3\n",
    "-----------------\n",
    "A+B 128 x 128 x 3\n",
    "```\n",
    "  \n",
    "* A (8 x 1 x 6 x 1) + B (7 x 1 x 5)\n",
    "\n",
    "```\n",
    "A   8 x 1 x 6 x 1\n",
    "B       7 x 1 x 5\n",
    "-----------------\n",
    "A+B  8 x 1 x 1 x 1 \n",
    "```\n",
    "  \n",
    "* A(2 x 1) + B(8 x 4 x 3)\n",
    "\n",
    "```\n",
    "A           2 x 1\n",
    "B       8 x 4 x 3\n",
    "-----------------\n",
    "A+B     8 x X x 3\n",
    "          Error\n",
    "```\n",
    "    \n",
    "* A(3 x 1) + B(15 x 3 x 5)\n",
    "\n",
    "```\n",
    "A           3 x 1\n",
    "B      15 x 3 x 5\n",
    "-----------------\n",
    "A+B    15 x 3 x 5\n",
    "```\n",
    "    \n",
    "* A(3) + B(4)\n",
    "\n",
    "```\n",
    "A            3\n",
    "B            4\n",
    "--------------\n",
    "A+B          X\n",
    "         Error\n",
    "```\n",
    "    "
   ]
  },
  {
   "cell_type": "code",
   "execution_count": null,
   "id": "e3110ca4-e8cd-4313-8dc0-512a8a90263b",
   "metadata": {},
   "outputs": [],
   "source": []
  }
 ],
 "metadata": {
  "kernelspec": {
   "display_name": "Python 3 (ipykernel)",
   "language": "python",
   "name": "python3"
  },
  "language_info": {
   "codemirror_mode": {
    "name": "ipython",
    "version": 3
   },
   "file_extension": ".py",
   "mimetype": "text/x-python",
   "name": "python",
   "nbconvert_exporter": "python",
   "pygments_lexer": "ipython3",
   "version": "3.12.4"
  }
 },
 "nbformat": 4,
 "nbformat_minor": 5
}
