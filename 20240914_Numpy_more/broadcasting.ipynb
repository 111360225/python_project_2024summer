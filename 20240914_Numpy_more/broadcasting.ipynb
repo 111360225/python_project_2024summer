{
 "cells": [
  {
   "cell_type": "markdown",
   "id": "678e0117-094e-47b1-a963-ad2c3d1556bb",
   "metadata": {},
   "source": [
    "## Exercise 3\n",
    "\n",
    "* A (128 x 128 x 3) + B (3)\n",
    "\n",
    "```\n",
    "A   128 x 128 x 3\n",
    "B               3\n",
    "-----------------\n",
    "A+B 128 x 128 x 3\n",
    "```\n",
    "  \n",
    "* A (8 x 1 x 6 x 1) + B (7 x 1 x 5)\n",
    "\n",
    "```\n",
    "A   8 x 1 x 6 x 1\n",
    "B       7 x 1 x 5\n",
    "-----------------\n",
    "A+B  8 x 1 x 1 x 1 \n",
    "```\n",
    "  \n",
    "* A(2 x 1) + B(8 x 4 x 3)\n",
    "\n",
    "```\n",
    "A           2 x 1\n",
    "B       8 x 4 x 3\n",
    "-----------------\n",
    "A+B     8 x X x 3\n",
    "          Error\n",
    "```\n",
    "    \n",
    "* A(3 x 1) + B(15 x 3 x 5)\n",
    "\n",
    "```\n",
    "A           3 x 1\n",
    "B      15 x 3 x 5\n",
    "-----------------\n",
    "A+B    15 x 3 x 5\n",
    "```\n",
    "    \n",
    "* A(3) + B(4)\n",
    "\n",
    "```\n",
    "A            3\n",
    "B            4\n",
    "--------------\n",
    "A+B          X\n",
    "         Error\n",
    "```\n",
    "    "
   ]
  },
  {
   "cell_type": "code",
   "execution_count": null,
   "id": "39a413cd-93c7-4149-bedc-4189ead64fb8",
   "metadata": {},
   "outputs": [],
   "source": []
  }
 ],
 "metadata": {
  "kernelspec": {
   "display_name": "Python 3 (ipykernel)",
   "language": "python",
   "name": "python3"
  },
  "language_info": {
   "codemirror_mode": {
    "name": "ipython",
    "version": 3
   },
   "file_extension": ".py",
   "mimetype": "text/x-python",
   "name": "python",
   "nbconvert_exporter": "python",
   "pygments_lexer": "ipython3",
   "version": "3.12.4"
  }
 },
 "nbformat": 4,
 "nbformat_minor": 5
}
