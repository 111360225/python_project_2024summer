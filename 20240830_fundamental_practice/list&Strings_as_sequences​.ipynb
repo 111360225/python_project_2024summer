{
 "cells": [
  {
   "cell_type": "markdown",
   "id": "d797958e-9a0d-4dac-bb35-bb1829ba8880",
   "metadata": {},
   "source": [
    "## Prictice 01"
   ]
  },
  {
   "cell_type": "code",
   "execution_count": 1,
   "id": "b21c6de6-1be4-4a05-af0a-6bfd6016762e",
   "metadata": {},
   "outputs": [],
   "source": [
    "d=[0,1,2,3,4,5,6,7,8,9]"
   ]
  },
  {
   "cell_type": "code",
   "execution_count": 2,
   "id": "77e84acb-c133-4e3f-ad73-2760deb1cf26",
   "metadata": {},
   "outputs": [
    {
     "name": "stdout",
     "output_type": "stream",
     "text": [
      "[1, 3, 5, 7, 9]\n"
     ]
    }
   ],
   "source": [
    "print(d[1::2])"
   ]
  },
  {
   "cell_type": "code",
   "execution_count": 3,
   "id": "e19bcef8-218e-42ce-8583-00feb3b02a64",
   "metadata": {},
   "outputs": [
    {
     "name": "stdout",
     "output_type": "stream",
     "text": [
      "[1, 4, 7]\n"
     ]
    }
   ],
   "source": [
    "print(d[1::3])"
   ]
  },
  {
   "cell_type": "code",
   "execution_count": 4,
   "id": "329da344-1534-4a93-b5f8-b4fe1737e926",
   "metadata": {},
   "outputs": [
    {
     "name": "stdout",
     "output_type": "stream",
     "text": [
      "[8, 7, 6, 5, 4, 3, 2, 1, 0]\n"
     ]
    }
   ],
   "source": [
    "print(d[8::-1])"
   ]
  },
  {
   "cell_type": "code",
   "execution_count": 5,
   "id": "a9f1a3a1-ee38-4e0c-8850-ce6b56bce39d",
   "metadata": {},
   "outputs": [
    {
     "data": {
      "text/plain": [
       "[2, 4, 9]"
      ]
     },
     "execution_count": 5,
     "metadata": {},
     "output_type": "execute_result"
    }
   ],
   "source": [
    "[d[2] , d[4] , d[9]]"
   ]
  },
  {
   "cell_type": "code",
   "execution_count": 6,
   "id": "a130b789-7ccc-480f-a22b-a51f3f4fda20",
   "metadata": {},
   "outputs": [
    {
     "data": {
      "text/plain": [
       "[2, 4, 9]"
      ]
     },
     "execution_count": 6,
     "metadata": {},
     "output_type": "execute_result"
    }
   ],
   "source": [
    "d[2:5:2] + [d[-1]]"
   ]
  },
  {
   "cell_type": "markdown",
   "id": "69dff1a9-0738-4745-ac75-c1b7ecc13a4b",
   "metadata": {},
   "source": [
    "## Prictice 02"
   ]
  },
  {
   "cell_type": "code",
   "execution_count": 7,
   "id": "df13342a-7794-4fc8-86c0-19d105881897",
   "metadata": {},
   "outputs": [],
   "source": [
    "x=\"the quick  Brown   fox  Jumped  over   a Lazy   dog\""
   ]
  },
  {
   "cell_type": "code",
   "execution_count": 8,
   "id": "1dfb1128-723c-456e-b1c7-2b9d90cb3033",
   "metadata": {},
   "outputs": [],
   "source": [
    "x = \" \".join(x.split())"
   ]
  },
  {
   "cell_type": "code",
   "execution_count": 9,
   "id": "54aec7aa-45df-464b-9871-a51c2a09af4a",
   "metadata": {},
   "outputs": [
    {
     "data": {
      "text/plain": [
       "'the quick Brown fox Jumped over a Lazy dog'"
      ]
     },
     "execution_count": 9,
     "metadata": {},
     "output_type": "execute_result"
    }
   ],
   "source": [
    "x"
   ]
  },
  {
   "cell_type": "code",
   "execution_count": 10,
   "id": "af0fbc76-921a-4fb4-8ed5-89013a4579a8",
   "metadata": {},
   "outputs": [],
   "source": [
    "a = x[0]"
   ]
  },
  {
   "cell_type": "code",
   "execution_count": 11,
   "id": "9350c6d1-e64f-4c52-a603-639f62481b94",
   "metadata": {},
   "outputs": [],
   "source": [
    "b = x[10]"
   ]
  },
  {
   "cell_type": "code",
   "execution_count": 12,
   "id": "49c10b88-0e33-4481-8643-9ec5ac6c2f12",
   "metadata": {},
   "outputs": [],
   "source": [
    "c = x[20]"
   ]
  },
  {
   "cell_type": "code",
   "execution_count": 13,
   "id": "93241102-0ce8-4f1d-b1cc-0bc36abf80a1",
   "metadata": {},
   "outputs": [],
   "source": [
    "d = x[34]"
   ]
  },
  {
   "cell_type": "code",
   "execution_count": 14,
   "id": "fffcd295-0d0b-4808-9608-d45abea15225",
   "metadata": {},
   "outputs": [],
   "source": [
    "z = a.swapcase() + x[1:10]+b.swapcase() + x[11:20] + c.swapcase() + x[21:34] + d.swapcase() + x[35:]"
   ]
  },
  {
   "cell_type": "code",
   "execution_count": 15,
   "id": "bfb3c6f4-7a73-4ee2-88ad-1d67ea7d4988",
   "metadata": {},
   "outputs": [
    {
     "data": {
      "text/plain": [
       "'The quick brown fox jumped over a lazy dog'"
      ]
     },
     "execution_count": 15,
     "metadata": {},
     "output_type": "execute_result"
    }
   ],
   "source": [
    "z"
   ]
  },
  {
   "cell_type": "code",
   "execution_count": null,
   "id": "8224bac5-da4d-4c3c-b7a8-eaa5b8e1fb30",
   "metadata": {},
   "outputs": [],
   "source": []
  },
  {
   "cell_type": "code",
   "execution_count": null,
   "id": "59dda57b-acc0-418d-b8bf-da4583baa49e",
   "metadata": {},
   "outputs": [],
   "source": []
  }
 ],
 "metadata": {
  "kernelspec": {
   "display_name": "Python 3 (ipykernel)",
   "language": "python",
   "name": "python3"
  },
  "language_info": {
   "codemirror_mode": {
    "name": "ipython",
    "version": 3
   },
   "file_extension": ".py",
   "mimetype": "text/x-python",
   "name": "python",
   "nbconvert_exporter": "python",
   "pygments_lexer": "ipython3",
   "version": "3.12.4"
  }
 },
 "nbformat": 4,
 "nbformat_minor": 5
}
