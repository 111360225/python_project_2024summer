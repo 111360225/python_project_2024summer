{
 "cells": [
  {
   "cell_type": "markdown",
   "id": "1bdecd3d-0c95-47ee-b13f-72f52500acf5",
   "metadata": {},
   "source": [
    "## Exercise 1"
   ]
  },
  {
   "cell_type": "code",
   "execution_count": 1,
   "id": "ef4a98b7-3688-4abb-a120-344c4a9b3b9a",
   "metadata": {},
   "outputs": [
    {
     "data": {
      "text/plain": [
       "([(0, 0),\n",
       "  (0, 1),\n",
       "  (0, 2),\n",
       "  (0, 3),\n",
       "  (0, 4),\n",
       "  (0, 5),\n",
       "  (0, 6),\n",
       "  (0, 7),\n",
       "  (0, 8),\n",
       "  (0, 9),\n",
       "  (0, 10),\n",
       "  (1, 0),\n",
       "  (1, 1),\n",
       "  (1, 2),\n",
       "  (1, 3),\n",
       "  (1, 4),\n",
       "  (1, 5),\n",
       "  (1, 6),\n",
       "  (1, 7),\n",
       "  (1, 8),\n",
       "  (1, 9),\n",
       "  (1, 10),\n",
       "  (2, 0),\n",
       "  (2, 1),\n",
       "  (2, 2),\n",
       "  (2, 3),\n",
       "  (2, 4),\n",
       "  (2, 5),\n",
       "  (2, 6),\n",
       "  (2, 7),\n",
       "  (2, 8),\n",
       "  (2, 9),\n",
       "  (2, 10),\n",
       "  (3, 0),\n",
       "  (3, 1),\n",
       "  (3, 2),\n",
       "  (3, 3),\n",
       "  (3, 4),\n",
       "  (3, 5),\n",
       "  (3, 6),\n",
       "  (3, 7),\n",
       "  (3, 8),\n",
       "  (3, 9),\n",
       "  (3, 10),\n",
       "  (4, 0),\n",
       "  (4, 1),\n",
       "  (4, 2),\n",
       "  (4, 3),\n",
       "  (4, 4),\n",
       "  (4, 5),\n",
       "  (4, 6),\n",
       "  (4, 7),\n",
       "  (4, 8),\n",
       "  (4, 9),\n",
       "  (4, 10),\n",
       "  (5, 0),\n",
       "  (5, 1),\n",
       "  (5, 2),\n",
       "  (5, 3),\n",
       "  (5, 4),\n",
       "  (5, 5),\n",
       "  (5, 6),\n",
       "  (5, 7),\n",
       "  (5, 8),\n",
       "  (5, 9),\n",
       "  (5, 10),\n",
       "  (6, 0),\n",
       "  (6, 1),\n",
       "  (6, 2),\n",
       "  (6, 3),\n",
       "  (6, 4),\n",
       "  (6, 5),\n",
       "  (6, 6),\n",
       "  (6, 7),\n",
       "  (6, 8),\n",
       "  (6, 9),\n",
       "  (6, 10),\n",
       "  (7, 0),\n",
       "  (7, 1),\n",
       "  (7, 2),\n",
       "  (7, 3),\n",
       "  (7, 4),\n",
       "  (7, 5),\n",
       "  (7, 6),\n",
       "  (7, 7),\n",
       "  (7, 8),\n",
       "  (7, 9),\n",
       "  (7, 10),\n",
       "  (8, 0),\n",
       "  (8, 1),\n",
       "  (8, 2),\n",
       "  (8, 3),\n",
       "  (8, 4),\n",
       "  (8, 5),\n",
       "  (8, 6),\n",
       "  (8, 7),\n",
       "  (8, 8),\n",
       "  (8, 9),\n",
       "  (8, 10),\n",
       "  (9, 0),\n",
       "  (9, 1),\n",
       "  (9, 2),\n",
       "  (9, 3),\n",
       "  (9, 4),\n",
       "  (9, 5),\n",
       "  (9, 6),\n",
       "  (9, 7),\n",
       "  (9, 8),\n",
       "  (9, 9),\n",
       "  (9, 10),\n",
       "  (10, 0),\n",
       "  (10, 1),\n",
       "  (10, 2),\n",
       "  (10, 3),\n",
       "  (10, 4),\n",
       "  (10, 5),\n",
       "  (10, 6),\n",
       "  (10, 7),\n",
       "  (10, 8),\n",
       "  (10, 9),\n",
       "  (10, 10)],\n",
       " 121)"
      ]
     },
     "execution_count": 1,
     "metadata": {},
     "output_type": "execute_result"
    }
   ],
   "source": [
    "#Create a list containing tuples of x and y coordinates of all the points of a\n",
    "#regular grid for x belongs [0,10] and y belongs [0,10] \n",
    "list = [(x,y)for x in range(11) for y in range(11)]\n",
    "list,len(list)"
   ]
  },
  {
   "cell_type": "code",
   "execution_count": 2,
   "id": "800c038d-379b-40ae-bfc7-aef195375cfc",
   "metadata": {},
   "outputs": [
    {
     "data": {
      "text/plain": [
       "55"
      ]
     },
     "execution_count": 2,
     "metadata": {},
     "output_type": "execute_result"
    }
   ],
   "source": [
    "#Count the number of points where y>x\n",
    "\n",
    "z=[(x,y)for x in range(11) for y in range(11) if y>x]\n",
    "len(z)"
   ]
  },
  {
   "cell_type": "code",
   "execution_count": 3,
   "id": "6587d407-e10b-436c-b055-1c0daa4e8660",
   "metadata": {},
   "outputs": [
    {
     "data": {
      "text/plain": [
       "([(0, 2),\n",
       "  (0, 3),\n",
       "  (0, 5),\n",
       "  (0, 7),\n",
       "  (1, 2),\n",
       "  (1, 3),\n",
       "  (1, 5),\n",
       "  (1, 7),\n",
       "  (2, 0),\n",
       "  (2, 1),\n",
       "  (2, 2),\n",
       "  (2, 3),\n",
       "  (2, 4),\n",
       "  (2, 5),\n",
       "  (2, 6),\n",
       "  (2, 7),\n",
       "  (2, 8),\n",
       "  (2, 9),\n",
       "  (2, 10),\n",
       "  (3, 0),\n",
       "  (3, 1),\n",
       "  (3, 2),\n",
       "  (3, 3),\n",
       "  (3, 4),\n",
       "  (3, 5),\n",
       "  (3, 6),\n",
       "  (3, 7),\n",
       "  (3, 8),\n",
       "  (3, 9),\n",
       "  (3, 10),\n",
       "  (4, 2),\n",
       "  (4, 3),\n",
       "  (4, 5),\n",
       "  (4, 7),\n",
       "  (5, 0),\n",
       "  (5, 1),\n",
       "  (5, 2),\n",
       "  (5, 3),\n",
       "  (5, 4),\n",
       "  (5, 5),\n",
       "  (5, 6),\n",
       "  (5, 7),\n",
       "  (5, 8),\n",
       "  (5, 9),\n",
       "  (5, 10),\n",
       "  (6, 2),\n",
       "  (6, 3),\n",
       "  (6, 5),\n",
       "  (6, 7),\n",
       "  (7, 0),\n",
       "  (7, 1),\n",
       "  (7, 2),\n",
       "  (7, 3),\n",
       "  (7, 4),\n",
       "  (7, 5),\n",
       "  (7, 6),\n",
       "  (7, 7),\n",
       "  (7, 8),\n",
       "  (7, 9),\n",
       "  (7, 10),\n",
       "  (8, 2),\n",
       "  (8, 3),\n",
       "  (8, 5),\n",
       "  (8, 7),\n",
       "  (9, 2),\n",
       "  (9, 3),\n",
       "  (9, 5),\n",
       "  (9, 7),\n",
       "  (10, 2),\n",
       "  (10, 3),\n",
       "  (10, 5),\n",
       "  (10, 7)],\n",
       " 72)"
      ]
     },
     "execution_count": 3,
     "metadata": {},
     "output_type": "execute_result"
    }
   ],
   "source": [
    "#Count the number of points x or y is prome\n",
    "\n",
    "primes = [2,3,5,7]\n",
    "prime_list = [(x,y) for x,y in list if x in primes or y in primes]\n",
    "prime_list,len(prime_list)"
   ]
  },
  {
   "cell_type": "markdown",
   "id": "65dd750e-acae-4211-9094-1d5e671755c9",
   "metadata": {},
   "source": [
    "## Exercise2"
   ]
  },
  {
   "cell_type": "code",
   "execution_count": 4,
   "id": "9deae2e2-c125-497a-9986-04a62795b68b",
   "metadata": {},
   "outputs": [
    {
     "data": {
      "text/plain": [
       "[2.20462, 4.40924, 11.0231, 6.613859999999999]"
      ]
     },
     "execution_count": 4,
     "metadata": {},
     "output_type": "execute_result"
    }
   ],
   "source": [
    "# Write a function, kg_tolb, that converts a list of weights in kilograms to a list of weights in pounds \n",
    "# (there a 1 kg = 2.20462 lbs). Include a doc string and function annotations.\n",
    "\n",
    "def kg_to_lb(wt:list)->list:\n",
    "    \"\"\"Change form kg to lb\"\"\"\n",
    "    return [ kg * 2.20462 for kg in wt] \n",
    "\n",
    "kg_to_lb([1,2,5,3])"
   ]
  },
  {
   "cell_type": "code",
   "execution_count": 6,
   "id": "cd8af68c-afff-4f8c-8181-9b22b907b85a",
   "metadata": {},
   "outputs": [
    {
     "data": {
      "text/plain": [
       "[2.20462, 8.81848, 22.0462, 6.613859999999999]"
      ]
     },
     "execution_count": 6,
     "metadata": {},
     "output_type": "execute_result"
    }
   ],
   "source": [
    "#Write a second function, total_lb, that calculates the total weight in pounds of an order, the input arguments\n",
    "#should be a list of item weights in kilograms and a list of the number of each item ordered.\n",
    "\n",
    "def total_lb(wt:list,num:list) -> list:\n",
    "    return [wt*num*2.20462 for wt,num in zip(wt,num)]\n",
    "total_lb([1,2,5,3],[1,2,2,1])"
   ]
  }
 ],
 "metadata": {
  "kernelspec": {
   "display_name": "Python 3 (ipykernel)",
   "language": "python",
   "name": "python3"
  },
  "language_info": {
   "codemirror_mode": {
    "name": "ipython",
    "version": 3
   },
   "file_extension": ".py",
   "mimetype": "text/x-python",
   "name": "python",
   "nbconvert_exporter": "python",
   "pygments_lexer": "ipython3",
   "version": "3.12.4"
  }
 },
 "nbformat": 4,
 "nbformat_minor": 5
}
